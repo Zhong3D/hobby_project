{
 "cells": [
  {
   "cell_type": "code",
   "execution_count": 66,
   "metadata": {},
   "outputs": [],
   "source": [
    "import matplotlib.pyplot as plt\n",
    "%matplotlib inline\n",
    "from keras.layers import Input, Dense\n",
    "from keras.models import Model\n",
    "\n",
    "encoding_dim = 32\n",
    "\n",
    "input_img = Input(shape=(784,))\n",
    "\n",
    "encoded = Dense(encoding_dim, activation='relu')(input_img)\n",
    "\n",
    "decoded = Dense(784, activation='sigmoid')(encoded)\n",
    "\n",
    "autoencoder = Model(input_img, decoded)\n"
   ]
  },
  {
   "cell_type": "code",
   "execution_count": 67,
   "metadata": {},
   "outputs": [],
   "source": [
    "encoder = Model(input_img, encoded)\n",
    "\n",
    "encoded_input = Input(shape=(encoding_dim,))\n",
    "\n",
    "decoder_layer = autoencoder.layers[-1]\n",
    "\n",
    "decoder = Model(encoded_input, decoder_layer(encoded_input))\n"
   ]
  },
  {
   "cell_type": "code",
   "execution_count": 68,
   "metadata": {},
   "outputs": [],
   "source": [
    "autoencoder.compile(optimizer='adadelta', loss='binary_crossentropy')"
   ]
  },
  {
   "cell_type": "code",
   "execution_count": 69,
   "metadata": {},
   "outputs": [],
   "source": [
    "from keras.datasets import mnist\n",
    "import numpy as np\n",
    "(x_train, x_train_label), (x_test, x_test_label) = mnist.load_data()\n"
   ]
  },
  {
   "cell_type": "code",
   "execution_count": 70,
   "metadata": {},
   "outputs": [
    {
     "data": {
      "text/plain": [
       "array([5, 0, 4, ..., 5, 6, 8], dtype=uint8)"
      ]
     },
     "execution_count": 70,
     "metadata": {},
     "output_type": "execute_result"
    }
   ],
   "source": [
    "x_train_label"
   ]
  },
  {
   "cell_type": "code",
   "execution_count": 71,
   "metadata": {},
   "outputs": [],
   "source": [
    "x_train_f = x_train.astype('float32') / 255.\n",
    "x_test_f = x_test.astype('float32') / 255.\n",
    "x_train_flattened = x_train_f.reshape((len(x_train_f), np.prod(x_train_f.shape[1:])))\n",
    "x_test_flattened = x_test_f.reshape((len(x_test_f), np.prod(x_test_f.shape[1:])))"
   ]
  },
  {
   "cell_type": "code",
   "execution_count": 72,
   "metadata": {},
   "outputs": [],
   "source": [
    "x_train = x_train.astype('float32') / 255.\n",
    "x_test = x_test.astype('float32') / 255.\n",
    "x_train = x_train.reshape((len(x_train), np.prod(x_train.shape[1:])))\n",
    "x_test = x_test.reshape((len(x_test), np.prod(x_test.shape[1:])))"
   ]
  },
  {
   "cell_type": "code",
   "execution_count": 74,
   "metadata": {},
   "outputs": [
    {
     "name": "stdout",
     "output_type": "stream",
     "text": [
      "Train on 60000 samples, validate on 10000 samples\n",
      "Epoch 1/10\n",
      "60000/60000 [==============================] - 3s 55us/step - loss: 0.1647 - val_loss: 0.1612\n",
      "Epoch 2/10\n",
      "60000/60000 [==============================] - 3s 47us/step - loss: 0.1605 - val_loss: 0.1571\n",
      "Epoch 3/10\n",
      "60000/60000 [==============================] - 3s 50us/step - loss: 0.1566 - val_loss: 0.1533\n",
      "Epoch 4/10\n",
      "60000/60000 [==============================] - 3s 49us/step - loss: 0.1530 - val_loss: 0.1499\n",
      "Epoch 5/10\n",
      "60000/60000 [==============================] - 3s 50us/step - loss: 0.1496 - val_loss: 0.1466\n",
      "Epoch 6/10\n",
      "60000/60000 [==============================] - 3s 51us/step - loss: 0.1464 - val_loss: 0.1434\n",
      "Epoch 7/10\n",
      "60000/60000 [==============================] - 3s 52us/step - loss: 0.1434 - val_loss: 0.1406\n",
      "Epoch 8/10\n",
      "60000/60000 [==============================] - 3s 54us/step - loss: 0.1407 - val_loss: 0.1379\n",
      "Epoch 9/10\n",
      "60000/60000 [==============================] - 3s 47us/step - loss: 0.1381 - val_loss: 0.1353\n",
      "Epoch 10/10\n",
      "60000/60000 [==============================] - 3s 51us/step - loss: 0.1356 - val_loss: 0.1329\n"
     ]
    },
    {
     "data": {
      "text/plain": [
       "<keras.callbacks.History at 0x121f71ac8>"
      ]
     },
     "execution_count": 74,
     "metadata": {},
     "output_type": "execute_result"
    }
   ],
   "source": [
    "autoencoder.fit(x_train, x_train,\n",
    "                epochs=10,\n",
    "                batch_size=256,\n",
    "                shuffle=True,\n",
    "                validation_data=(x_test, x_test))"
   ]
  },
  {
   "cell_type": "code",
   "execution_count": 75,
   "metadata": {},
   "outputs": [
    {
     "name": "stdout",
     "output_type": "stream",
     "text": [
      "_________________________________________________________________\n",
      "Layer (type)                 Output Shape              Param #   \n",
      "=================================================================\n",
      "input_12 (InputLayer)        (None, 784)               0         \n",
      "_________________________________________________________________\n",
      "dense_13 (Dense)             (None, 32)                25120     \n",
      "_________________________________________________________________\n",
      "dense_14 (Dense)             (None, 784)               25872     \n",
      "=================================================================\n",
      "Total params: 50,992\n",
      "Trainable params: 50,992\n",
      "Non-trainable params: 0\n",
      "_________________________________________________________________\n"
     ]
    }
   ],
   "source": [
    "autoencoder.summary()"
   ]
  },
  {
   "cell_type": "code",
   "execution_count": 76,
   "metadata": {},
   "outputs": [],
   "source": [
    "encoded_imgs = encoder.predict(x_test_flattened)\n",
    "decoded_imgs = decoder.predict(encoded_imgs)"
   ]
  },
  {
   "cell_type": "code",
   "execution_count": 77,
   "metadata": {},
   "outputs": [
    {
     "data": {
      "image/png": "[encoded data removed]",
      "text/plain": [
       "<Figure size 1440x288 with 20 Axes>"
      ]
     },
     "metadata": {},
     "output_type": "display_data"
    }
   ],
   "source": [
    "n = 10\n",
    "plt.figure(figsize = (20, 4))\n",
    "for i in range(n):\n",
    "    ax = plt.subplot(2, n, i + 1)\n",
    "    plt.imshow(x_test[i].reshape(28,28))\n",
    "    plt.gray()\n",
    "    ax.get_xaxis().set_visible(False)\n",
    "    ax.get_yaxis().set_visible(False)\n",
    "    \n",
    "    ax = plt.subplot(2, n, i + 1 + n)\n",
    "    plt.imshow(decoded_imgs[i].reshape(28,28))\n",
    "    plt.gray()\n",
    "    ax.get_xaxis().set_visible(False)\n",
    "    ax.get_yaxis().set_visible(False)\n",
    "plt.show()"
   ]
  },
  {
   "cell_type": "markdown",
   "metadata": {},
   "source": [
    "# Adding regularizers (sparcity constraints) to silence some nodes at times."
   ]
  },
  {
   "cell_type": "code",
   "execution_count": 34,
   "metadata": {},
   "outputs": [],
   "source": [
    "from keras import regularizers\n",
    "\n",
    "encoding_dim = 32\n",
    "\n",
    "input_img = Input(shape=(784,))\n",
    "encoded = Dense(encoding_dim,\n",
    "                activation = 'relu',\n",
    "                activity_regularizer = regularizers.l1(10e-5))(input_img)\n",
    "decoded = Dense(784,\n",
    "                activation = 'sigmoid')(encoded)\n",
    "autoencoder = Model(input_img, decoded)"
   ]
  },
  {
   "cell_type": "markdown",
   "metadata": {},
   "source": [
    "# Deep autoencoder"
   ]
  },
  {
   "cell_type": "code",
   "execution_count": 78,
   "metadata": {},
   "outputs": [],
   "source": [
    "input_img = Input(shape = (784, ))\n",
    "\n",
    "encoded = Dense(64, activation = 'relu')(input_img)\n",
    "encoded = Dense(32, activation = 'relu')(encoded)\n",
    "\n",
    "decoded = Dense(64, activation = 'relu')(encoded)\n",
    "decoded = Dense(128, activation = 'relu')(decoded)\n",
    "decoded = Dense(784, activation = 'sigmoid')(decoded)\n",
    "\n",
    "deep_autoencoder = Model(input_img, decoded)"
   ]
  },
  {
   "cell_type": "code",
   "execution_count": 79,
   "metadata": {},
   "outputs": [],
   "source": [
    "deep_autoencoder.compile(optimizer = 'adam', loss = 'binary_crossentropy')"
   ]
  },
  {
   "cell_type": "code",
   "execution_count": 80,
   "metadata": {
    "scrolled": true
   },
   "outputs": [
    {
     "name": "stdout",
     "output_type": "stream",
     "text": [
      "Train on 60000 samples, validate on 10000 samples\n",
      "Epoch 1/20\n",
      "60000/60000 [==============================] - 5s 79us/step - loss: 0.2375 - val_loss: 0.1648\n",
      "Epoch 2/20\n",
      "60000/60000 [==============================] - 4s 72us/step - loss: 0.1488 - val_loss: 0.1347\n",
      "Epoch 3/20\n",
      "60000/60000 [==============================] - 5s 79us/step - loss: 0.1290 - val_loss: 0.1220\n",
      "Epoch 4/20\n",
      "60000/60000 [==============================] - 4s 75us/step - loss: 0.1199 - val_loss: 0.1153\n",
      "Epoch 5/20\n",
      "60000/60000 [==============================] - 4s 72us/step - loss: 0.1146 - val_loss: 0.1108\n",
      "Epoch 6/20\n",
      "60000/60000 [==============================] - 4s 67us/step - loss: 0.1108 - val_loss: 0.1077\n",
      "Epoch 7/20\n",
      "60000/60000 [==============================] - 5s 79us/step - loss: 0.1079 - val_loss: 0.1052\n",
      "Epoch 8/20\n",
      "60000/60000 [==============================] - 5s 80us/step - loss: 0.1053 - val_loss: 0.1027\n",
      "Epoch 9/20\n",
      "60000/60000 [==============================] - 4s 73us/step - loss: 0.1028 - val_loss: 0.1003\n",
      "Epoch 10/20\n",
      "60000/60000 [==============================] - 5s 82us/step - loss: 0.1008 - val_loss: 0.0986\n",
      "Epoch 11/20\n",
      "60000/60000 [==============================] - 5s 78us/step - loss: 0.0990 - val_loss: 0.0970\n",
      "Epoch 12/20\n",
      "60000/60000 [==============================] - 5s 81us/step - loss: 0.0977 - val_loss: 0.0963\n",
      "Epoch 13/20\n",
      "60000/60000 [==============================] - 5s 77us/step - loss: 0.0966 - val_loss: 0.0955\n",
      "Epoch 14/20\n",
      "60000/60000 [==============================] - 4s 74us/step - loss: 0.0956 - val_loss: 0.0943\n",
      "Epoch 15/20\n",
      "60000/60000 [==============================] - 5s 77us/step - loss: 0.0948 - val_loss: 0.0934\n",
      "Epoch 16/20\n",
      "60000/60000 [==============================] - 5s 78us/step - loss: 0.0941 - val_loss: 0.0928\n",
      "Epoch 17/20\n",
      "60000/60000 [==============================] - 4s 75us/step - loss: 0.0934 - val_loss: 0.0921\n",
      "Epoch 18/20\n",
      "60000/60000 [==============================] - 5s 83us/step - loss: 0.0927 - val_loss: 0.0915\n",
      "Epoch 19/20\n",
      "60000/60000 [==============================] - 5s 77us/step - loss: 0.0922 - val_loss: 0.0915\n",
      "Epoch 20/20\n",
      "60000/60000 [==============================] - 4s 74us/step - loss: 0.0917 - val_loss: 0.0906\n"
     ]
    },
    {
     "data": {
      "text/plain": [
       "<keras.callbacks.History at 0x121251390>"
      ]
     },
     "execution_count": 80,
     "metadata": {},
     "output_type": "execute_result"
    }
   ],
   "source": [
    "deep_autoencoder.fit(x_train, x_train,\n",
    "                     epochs = 20,\n",
    "                     batch_size = 256,\n",
    "                     shuffle = True,\n",
    "                     validation_data = (x_test, x_test))"
   ]
  },
  {
   "cell_type": "code",
   "execution_count": 82,
   "metadata": {},
   "outputs": [
    {
     "name": "stdout",
     "output_type": "stream",
     "text": [
      "_________________________________________________________________\n",
      "Layer (type)                 Output Shape              Param #   \n",
      "=================================================================\n",
      "input_14 (InputLayer)        (None, 784)               0         \n",
      "_________________________________________________________________\n",
      "dense_15 (Dense)             (None, 64)                50240     \n",
      "_________________________________________________________________\n",
      "dense_16 (Dense)             (None, 32)                2080      \n",
      "_________________________________________________________________\n",
      "dense_17 (Dense)             (None, 64)                2112      \n",
      "_________________________________________________________________\n",
      "dense_18 (Dense)             (None, 128)               8320      \n",
      "_________________________________________________________________\n",
      "dense_19 (Dense)             (None, 784)               101136    \n",
      "=================================================================\n",
      "Total params: 163,888\n",
      "Trainable params: 163,888\n",
      "Non-trainable params: 0\n",
      "_________________________________________________________________\n"
     ]
    }
   ],
   "source": [
    "deep_autoencoder.summary()"
   ]
  },
  {
   "cell_type": "code",
   "execution_count": 88,
   "metadata": {},
   "outputs": [],
   "source": [
    "decoded_imgs = deep_autoencoder.predict(x_test)"
   ]
  },
  {
   "cell_type": "code",
   "execution_count": 89,
   "metadata": {},
   "outputs": [
    {
     "data": {
      "image/png": "[encoded data removed]",
      "text/plain": [
       "<Figure size 1440x288 with 20 Axes>"
      ]
     },
     "metadata": {},
     "output_type": "display_data"
    }
   ],
   "source": [
    "n = 10\n",
    "plt.figure(figsize = (20, 4))\n",
    "for i in range(n):\n",
    "    ax = plt.subplot(2, n, i + 1)\n",
    "    plt.imshow(x_test[i].reshape(28,28))\n",
    "    plt.gray()\n",
    "    ax.get_xaxis().set_visible(False)\n",
    "    ax.get_yaxis().set_visible(False)\n",
    "    \n",
    "    ax = plt.subplot(2, n, i + 1 + n)\n",
    "    plt.imshow(decoded_imgs[i].reshape(28,28))\n",
    "    plt.gray()\n",
    "    ax.get_xaxis().set_visible(False)\n",
    "    ax.get_yaxis().set_visible(False)\n",
    "plt.show()"
   ]
  },
  {
   "cell_type": "markdown",
   "metadata": {},
   "source": [
    "# Convolutional autoencoder"
   ]
  },
  {
   "cell_type": "code",
   "execution_count": 144,
   "metadata": {},
   "outputs": [],
   "source": [
    "from keras.layers import Input, Dense, Conv2D, MaxPooling2D, UpSampling2D\n",
    "from keras.models import Model\n",
    "from keras import backend as K\n",
    "\n",
    "input_img = Input(shape=(28,28,1))\n",
    "\n",
    "x = Conv2D(16, (3, 3), activation='relu', padding='same')(input_img)\n",
    "x = MaxPooling2D((2, 2), padding='same')(x)\n",
    "x = Conv2D(8, (3, 3), activation='relu', padding='same')(x)\n",
    "x = MaxPooling2D((2, 2), padding='same')(x)\n",
    "x = Conv2D(8, (3, 3), activation='relu', padding='same')(x)\n",
    "encoded = MaxPooling2D((2, 2), padding='same')(x)\n",
    "\n",
    "x = Conv2D(8, (3, 3), activation='relu', padding='same')(encoded)\n",
    "x = UpSampling2D((2, 2))(x)\n",
    "x = Conv2D(8, (3, 3), activation='relu', padding='same')(x)\n",
    "x = UpSampling2D((2, 2))(x)\n",
    "x = Conv2D(16, (3, 3), activation='relu')(x)\n",
    "x = UpSampling2D((2, 2))(x)\n",
    "decoded = Conv2D(1, (3, 3), activation='sigmoid', padding='same')(x)\n",
    "#decoded = Dense(784, activation='sigmoid')(x)\n",
    "\n",
    "convnet_autoencoder = Model(input_img, decoded)"
   ]
  },
  {
   "cell_type": "code",
   "execution_count": 145,
   "metadata": {},
   "outputs": [],
   "source": [
    "convnet_autoencoder.compile(optimizer='adam', loss='binary_crossentropy')"
   ]
  },
  {
   "cell_type": "code",
   "execution_count": 146,
   "metadata": {},
   "outputs": [
    {
     "name": "stdout",
     "output_type": "stream",
     "text": [
      "_________________________________________________________________\n",
      "Layer (type)                 Output Shape              Param #   \n",
      "=================================================================\n",
      "input_25 (InputLayer)        (None, 28, 28, 1)         0         \n",
      "_________________________________________________________________\n",
      "conv2d_47 (Conv2D)           (None, 28, 28, 16)        160       \n",
      "_________________________________________________________________\n",
      "max_pooling2d_22 (MaxPooling (None, 14, 14, 16)        0         \n",
      "_________________________________________________________________\n",
      "conv2d_48 (Conv2D)           (None, 14, 14, 8)         1160      \n",
      "_________________________________________________________________\n",
      "max_pooling2d_23 (MaxPooling (None, 7, 7, 8)           0         \n",
      "_________________________________________________________________\n",
      "conv2d_49 (Conv2D)           (None, 7, 7, 8)           584       \n",
      "_________________________________________________________________\n",
      "max_pooling2d_24 (MaxPooling (None, 4, 4, 8)           0         \n",
      "_________________________________________________________________\n",
      "conv2d_50 (Conv2D)           (None, 4, 4, 8)           584       \n",
      "_________________________________________________________________\n",
      "up_sampling2d_22 (UpSampling (None, 8, 8, 8)           0         \n",
      "_________________________________________________________________\n",
      "conv2d_51 (Conv2D)           (None, 8, 8, 8)           584       \n",
      "_________________________________________________________________\n",
      "up_sampling2d_23 (UpSampling (None, 16, 16, 8)         0         \n",
      "_________________________________________________________________\n",
      "conv2d_52 (Conv2D)           (None, 14, 14, 16)        1168      \n",
      "_________________________________________________________________\n",
      "up_sampling2d_24 (UpSampling (None, 28, 28, 16)        0         \n",
      "_________________________________________________________________\n",
      "conv2d_53 (Conv2D)           (None, 28, 28, 1)         145       \n",
      "=================================================================\n",
      "Total params: 4,385\n",
      "Trainable params: 4,385\n",
      "Non-trainable params: 0\n",
      "_________________________________________________________________\n"
     ]
    }
   ],
   "source": [
    "convnet_autoencoder.summary()"
   ]
  },
  {
   "cell_type": "code",
   "execution_count": 147,
   "metadata": {},
   "outputs": [],
   "source": [
    "(x_train, x_train_label), (x_test, x_test_label) = mnist.load_data()\n",
    "\n",
    "x_train = x_train.astype('float32') / 255.\n",
    "x_test = x_test.astype('float32') / 255."
   ]
  },
  {
   "cell_type": "code",
   "execution_count": 148,
   "metadata": {},
   "outputs": [],
   "source": [
    "x_train_reshaped = np.reshape(x_train, (len(x_train), 28, 28, 1))\n",
    "#x_train_flattened = x_train.reshape((len(x_train), np.prod(x_train.shape[1:])))\n",
    "x_test_reshaped = np.reshape(x_test, (len(x_test), 28, 28, 1))\n",
    "#x_test_flattened = x_test.reshape((len(x_test), np.prod(x_test.shape[1:])))\n"
   ]
  },
  {
   "cell_type": "code",
   "execution_count": 149,
   "metadata": {
    "scrolled": false
   },
   "outputs": [
    {
     "data": {
      "text/plain": [
       "(60000, 28, 28, 1)"
      ]
     },
     "execution_count": 149,
     "metadata": {},
     "output_type": "execute_result"
    }
   ],
   "source": [
    "x_train_reshaped.shape"
   ]
  },
  {
   "cell_type": "code",
   "execution_count": 150,
   "metadata": {},
   "outputs": [
    {
     "data": {
      "text/plain": [
       "(60000, 784)"
      ]
     },
     "execution_count": 150,
     "metadata": {},
     "output_type": "execute_result"
    }
   ],
   "source": [
    "x_train_flattened.shape"
   ]
  },
  {
   "cell_type": "markdown",
   "metadata": {},
   "source": [
    "### at terminal, type: tensorboard --logdir=~/Downloads/convnet_autoencoder or any matching directory"
   ]
  },
  {
   "cell_type": "code",
   "execution_count": 152,
   "metadata": {},
   "outputs": [
    {
     "name": "stdout",
     "output_type": "stream",
     "text": [
      "Train on 60000 samples, validate on 10000 samples\n",
      "Epoch 1/10\n",
      "60000/60000 [==============================] - 75s 1ms/step - loss: 0.1226 - val_loss: 0.1178\n",
      "Epoch 2/10\n",
      "60000/60000 [==============================] - 74s 1ms/step - loss: 0.1167 - val_loss: 0.1134\n",
      "Epoch 3/10\n",
      "60000/60000 [==============================] - 74s 1ms/step - loss: 0.1131 - val_loss: 0.1104\n",
      "Epoch 4/10\n",
      "60000/60000 [==============================] - 74s 1ms/step - loss: 0.1104 - val_loss: 0.1082\n",
      "Epoch 5/10\n",
      "60000/60000 [==============================] - 74s 1ms/step - loss: 0.1083 - val_loss: 0.1064\n",
      "Epoch 6/10\n",
      "60000/60000 [==============================] - 73s 1ms/step - loss: 0.1066 - val_loss: 0.1046\n",
      "Epoch 7/10\n",
      "60000/60000 [==============================] - 73s 1ms/step - loss: 0.1052 - val_loss: 0.1034\n",
      "Epoch 8/10\n",
      "60000/60000 [==============================] - 72s 1ms/step - loss: 0.1041 - val_loss: 0.1024\n",
      "Epoch 9/10\n",
      "60000/60000 [==============================] - 75s 1ms/step - loss: 0.1031 - val_loss: 0.1018\n",
      "Epoch 10/10\n",
      "60000/60000 [==============================] - 78s 1ms/step - loss: 0.1024 - val_loss: 0.1007\n"
     ]
    },
    {
     "data": {
      "text/plain": [
       "<keras.callbacks.History at 0x1634bbc50>"
      ]
     },
     "execution_count": 152,
     "metadata": {},
     "output_type": "execute_result"
    }
   ],
   "source": [
    "from keras.callbacks import TensorBoard\n",
    "\n",
    "convnet_autoencoder.fit(x_train_reshaped, x_train_reshaped,\n",
    "                        epochs=10,\n",
    "                        batch_size=128,\n",
    "                        shuffle=True,\n",
    "                        validation_data=(x_test_reshaped, x_test_reshaped),\n",
    "                        callbacks=[TensorBoard(log_dir='/Users/zhong/Downloads/convnet_autoencoder')])"
   ]
  },
  {
   "cell_type": "code",
   "execution_count": 154,
   "metadata": {},
   "outputs": [
    {
     "data": {
      "image/png": "[encoded data removed]",
      "text/plain": [
       "<Figure size 1440x288 with 20 Axes>"
      ]
     },
     "metadata": {},
     "output_type": "display_data"
    }
   ],
   "source": [
    "decoded_imgs = convnet_autoencoder.predict(x_test_reshaped)\n",
    "\n",
    "n = 10\n",
    "plt.figure(figsize=(20,4))\n",
    "for i in range(n):\n",
    "    ax = plt.subplot(2, n, i + 1)\n",
    "    plt.imshow(x_test_reshaped[i].reshape(28, 28))\n",
    "    plt.gray()\n",
    "    ax.get_xaxis().set_visible(False)\n",
    "    ax.get_yaxis().set_visible(False)\n",
    "    \n",
    "    ax = plt.subplot(2, n, n + i + 1)\n",
    "    plt.imshow(decoded_imgs[i].reshape(28, 28))\n",
    "    plt.gray()\n",
    "    ax.get_xaxis().set_visible(False)\n",
    "    ax.get_yaxis().set_visible(False)\n",
    "plt.show()"
   ]
  },
  {
   "cell_type": "code",
   "execution_count": 157,
   "metadata": {},
   "outputs": [],
   "source": [
    "convnet_encoder = Model(input_img, encoded)\n",
    "encoded_imgs = convnet_encoder.predict(x_test_reshaped)"
   ]
  },
  {
   "cell_type": "markdown",
   "metadata": {},
   "source": [
    "### Visualize encoded images by convnet_encoder\n",
    "### Convert to 4x32 array to enable 2d visualization"
   ]
  },
  {
   "cell_type": "code",
   "execution_count": 160,
   "metadata": {},
   "outputs": [
    {
     "data": {
      "image/png": "[encoded data removed]",
      "text/plain": [
       "<Figure size 1440x576 with 10 Axes>"
      ]
     },
     "metadata": {},
     "output_type": "display_data"
    }
   ],
   "source": [
    "n = 10\n",
    "plt.figure(figsize=(20, 8))\n",
    "for i in range(n):\n",
    "    ax = plt.subplot(1, n, i + 1)\n",
    "    plt.imshow(encoded_imgs[i].reshape(4, 4 * 8).T)\n",
    "    plt.gray()\n",
    "    ax.get_xaxis().set_visible(False)\n",
    "    ax.get_yaxis().set_visible(False)\n",
    "plt.show()"
   ]
  },
  {
   "cell_type": "markdown",
   "metadata": {},
   "source": [
    "## Using convnet_autoencoder to denoise a specific set of images."
   ]
  },
  {
   "cell_type": "code",
   "execution_count": 162,
   "metadata": {},
   "outputs": [],
   "source": [
    "t = np.random.normal(loc=0.0, scale=1.0, size=(10,10))"
   ]
  },
  {
   "cell_type": "code",
   "execution_count": 163,
   "metadata": {
    "collapsed": true
   },
   "outputs": [
    {
     "data": {
      "text/plain": [
       "array([[-0.51227206,  0.47087324, -1.14104077,  2.0338052 ,  1.48334906,\n",
       "         0.74004166,  0.51224728, -0.08730603, -0.02176469, -0.19054496],\n",
       "       [-0.95495093,  0.43656208, -1.06908983, -0.90795594,  2.7454576 ,\n",
       "        -1.90526181,  0.30859945,  0.24681721, -2.21569241, -2.90658417],\n",
       "       [-0.34068524,  1.41355902, -1.22570651,  0.25156765, -0.82681297,\n",
       "         0.62551858, -2.16648195, -0.39341967,  0.03940577,  0.5419561 ],\n",
       "       [ 1.06003875,  0.83514254,  1.26274435, -0.15817527,  1.18539965,\n",
       "        -2.25711817, -0.22499886, -0.31570137,  0.49169553, -0.13390646],\n",
       "       [ 0.08142832, -1.18043221, -1.5876366 , -1.37531775,  0.55521707,\n",
       "        -0.93173695, -0.20696177, -1.22194055, -0.28902824,  1.35801527],\n",
       "       [ 0.38167457,  2.05035167, -1.02516934,  0.9579454 ,  1.03603747,\n",
       "         0.38960497,  0.20336592,  0.16992641, -1.81317524,  0.70666805],\n",
       "       [-0.14879092,  0.66248046, -0.77140594,  0.46487552,  2.23710417,\n",
       "        -0.65286194,  0.27821499, -0.44901924,  0.38598127,  1.56865142],\n",
       "       [ 0.79391345,  0.72613796, -0.29286314, -0.39558264, -0.51109241,\n",
       "         0.37125357, -2.02719863, -0.63425505,  1.82047445, -2.30174317],\n",
       "       [ 0.08704226,  0.23964895, -0.14607444,  1.07999731, -0.25236448,\n",
       "        -0.10015539, -1.52126359,  0.02688947, -0.05030438, -0.60859278],\n",
       "       [ 0.87899556,  0.20047334,  0.29923759,  1.11111981,  0.12939944,\n",
       "        -0.28817864, -0.59164574, -1.29752398, -1.07978157,  0.06622338]])"
      ]
     },
     "execution_count": 163,
     "metadata": {},
     "output_type": "execute_result"
    }
   ],
   "source": [
    "t"
   ]
  },
  {
   "cell_type": "code",
   "execution_count": 167,
   "metadata": {
    "collapsed": true
   },
   "outputs": [
    {
     "data": {
      "text/plain": [
       "<matplotlib.image.AxesImage at 0x10437cfd0>"
      ]
     },
     "execution_count": 167,
     "metadata": {},
     "output_type": "execute_result"
    },
    {
     "data": {
      "image/png": "[encoded data removed]",
      "text/plain": [
       "<Figure size 576x576 with 1 Axes>"
      ]
     },
     "metadata": {},
     "output_type": "display_data"
    }
   ],
   "source": [
    "plt.figure(figsize=(8,8))\n",
    "plt.imshow(t)\n"
   ]
  },
  {
   "cell_type": "code",
   "execution_count": 191,
   "metadata": {},
   "outputs": [],
   "source": [
    "(x_train, x_train_label), (x_test, x_test_label) = mnist.load_data()\n",
    "\n",
    "x_train_normed = x_train.astype('float32') / 255.\n",
    "x_test_normed = x_test.astype('float32') / 255.\n",
    "x_train_normed_reshaped = np.reshape(x_train_normed, (len(x_train_normed), 28, 28, 1))\n",
    "x_test_normed_reshaped = np.reshape(x_test_normed, (len(x_test_normed), 28, 28, 1))\n",
    "#x_train_normed_reshaped = np.reshape(x_train_normed, (len(x_train_normed), 28, 28))\n",
    "#x_test_normed_reshaped = np.reshape(x_test_normed, (len(x_test_normed), 28, 28))\n",
    "\n",
    "noise_factor = 0.5\n",
    "x_train_noised = x_train_normed_reshaped + noise_factor * np.random.normal(loc=0.5, scale=1.0, size=x_train_normed_reshaped.shape)\n",
    "x_test_noised = x_test_normed_reshaped + noise_factor * np.random.normal(loc=0.5, scale=1.0, size=x_test_normed_reshaped.shape)\n",
    "\n",
    "x_train_noised_clipped = np.clip(x_train_noised, 0., 1.)\n",
    "x_test_noised_clipped = np.clip(x_test_noised, 0., 1.)\n"
   ]
  },
  {
   "cell_type": "code",
   "execution_count": 187,
   "metadata": {
    "scrolled": true
   },
   "outputs": [
    {
     "data": {
      "text/plain": [
       "(60000, 28, 28, 1)"
      ]
     },
     "execution_count": 187,
     "metadata": {},
     "output_type": "execute_result"
    }
   ],
   "source": [
    "x_train_noised_clipped[1]\n",
    "x_train_normed_reshaped.shape"
   ]
  },
  {
   "cell_type": "code",
   "execution_count": 174,
   "metadata": {},
   "outputs": [
    {
     "data": {
      "image/png": "[encoded data removed]",
      "text/plain": [
       "<Figure size 1440x144 with 10 Axes>"
      ]
     },
     "metadata": {},
     "output_type": "display_data"
    }
   ],
   "source": [
    "n = 10\n",
    "plt.figure(figsize=(20, 2))\n",
    "for i in range(n):\n",
    "    ax = plt.subplot(1, n, i + 1)\n",
    "    plt.imshow(x_train_noised_clipped[i].reshape(28, 28))\n",
    "    plt.gray()\n",
    "    ax.get_xaxis().set_visible(False)\n",
    "    ax.get_yaxis().set_visible(False)\n",
    "plt.show()\n",
    "\n"
   ]
  },
  {
   "cell_type": "code",
   "execution_count": 192,
   "metadata": {},
   "outputs": [
    {
     "name": "stdout",
     "output_type": "stream",
     "text": [
      "x_train:  (60000, 28, 28)\n",
      "x_train_noised_clipped:  (60000, 28, 28, 1)\n"
     ]
    }
   ],
   "source": [
    "print('x_train: ', x_train.shape)\n",
    "print('x_train_noised_clipped: ', x_train_noised_clipped.shape)"
   ]
  },
  {
   "cell_type": "code",
   "execution_count": 177,
   "metadata": {
    "collapsed": true
   },
   "outputs": [
    {
     "data": {
      "text/plain": [
       "array([[  0,   0,   0,   0,   0,   0,   0,   0,   0,   0,   0,   0,   0,\n",
       "          0,   0,   0,   0,   0,   0,   0,   0,   0,   0,   0,   0,   0,\n",
       "          0,   0],\n",
       "       [  0,   0,   0,   0,   0,   0,   0,   0,   0,   0,   0,   0,   0,\n",
       "          0,   0,   0,   0,   0,   0,   0,   0,   0,   0,   0,   0,   0,\n",
       "          0,   0],\n",
       "       [  0,   0,   0,   0,   0,   0,   0,   0,   0,   0,   0,   0,   0,\n",
       "          0,   0,   0,   0,   0,   0,   0,   0,   0,   0,   0,   0,   0,\n",
       "          0,   0],\n",
       "       [  0,   0,   0,   0,   0,   0,   0,   0,   0,   0,   0,   0,   0,\n",
       "          0,   0,   0,   0,   0,   0,   0,   0,   0,   0,   0,   0,   0,\n",
       "          0,   0],\n",
       "       [  0,   0,   0,   0,   0,   0,   0,   0,   0,   0,   0,   0,   0,\n",
       "          0,   0,  51, 159, 253, 159,  50,   0,   0,   0,   0,   0,   0,\n",
       "          0,   0],\n",
       "       [  0,   0,   0,   0,   0,   0,   0,   0,   0,   0,   0,   0,   0,\n",
       "          0,  48, 238, 252, 252, 252, 237,   0,   0,   0,   0,   0,   0,\n",
       "          0,   0],\n",
       "       [  0,   0,   0,   0,   0,   0,   0,   0,   0,   0,   0,   0,   0,\n",
       "         54, 227, 253, 252, 239, 233, 252,  57,   6,   0,   0,   0,   0,\n",
       "          0,   0],\n",
       "       [  0,   0,   0,   0,   0,   0,   0,   0,   0,   0,   0,  10,  60,\n",
       "        224, 252, 253, 252, 202,  84, 252, 253, 122,   0,   0,   0,   0,\n",
       "          0,   0],\n",
       "       [  0,   0,   0,   0,   0,   0,   0,   0,   0,   0,   0, 163, 252,\n",
       "        252, 252, 253, 252, 252,  96, 189, 253, 167,   0,   0,   0,   0,\n",
       "          0,   0],\n",
       "       [  0,   0,   0,   0,   0,   0,   0,   0,   0,   0,  51, 238, 253,\n",
       "        253, 190, 114, 253, 228,  47,  79, 255, 168,   0,   0,   0,   0,\n",
       "          0,   0],\n",
       "       [  0,   0,   0,   0,   0,   0,   0,   0,   0,  48, 238, 252, 252,\n",
       "        179,  12,  75, 121,  21,   0,   0, 253, 243,  50,   0,   0,   0,\n",
       "          0,   0],\n",
       "       [  0,   0,   0,   0,   0,   0,   0,   0,  38, 165, 253, 233, 208,\n",
       "         84,   0,   0,   0,   0,   0,   0, 253, 252, 165,   0,   0,   0,\n",
       "          0,   0],\n",
       "       [  0,   0,   0,   0,   0,   0,   0,   7, 178, 252, 240,  71,  19,\n",
       "         28,   0,   0,   0,   0,   0,   0, 253, 252, 195,   0,   0,   0,\n",
       "          0,   0],\n",
       "       [  0,   0,   0,   0,   0,   0,   0,  57, 252, 252,  63,   0,   0,\n",
       "          0,   0,   0,   0,   0,   0,   0, 253, 252, 195,   0,   0,   0,\n",
       "          0,   0],\n",
       "       [  0,   0,   0,   0,   0,   0,   0, 198, 253, 190,   0,   0,   0,\n",
       "          0,   0,   0,   0,   0,   0,   0, 255, 253, 196,   0,   0,   0,\n",
       "          0,   0],\n",
       "       [  0,   0,   0,   0,   0,   0,  76, 246, 252, 112,   0,   0,   0,\n",
       "          0,   0,   0,   0,   0,   0,   0, 253, 252, 148,   0,   0,   0,\n",
       "          0,   0],\n",
       "       [  0,   0,   0,   0,   0,   0,  85, 252, 230,  25,   0,   0,   0,\n",
       "          0,   0,   0,   0,   0,   7, 135, 253, 186,  12,   0,   0,   0,\n",
       "          0,   0],\n",
       "       [  0,   0,   0,   0,   0,   0,  85, 252, 223,   0,   0,   0,   0,\n",
       "          0,   0,   0,   0,   7, 131, 252, 225,  71,   0,   0,   0,   0,\n",
       "          0,   0],\n",
       "       [  0,   0,   0,   0,   0,   0,  85, 252, 145,   0,   0,   0,   0,\n",
       "          0,   0,   0,  48, 165, 252, 173,   0,   0,   0,   0,   0,   0,\n",
       "          0,   0],\n",
       "       [  0,   0,   0,   0,   0,   0,  86, 253, 225,   0,   0,   0,   0,\n",
       "          0,   0, 114, 238, 253, 162,   0,   0,   0,   0,   0,   0,   0,\n",
       "          0,   0],\n",
       "       [  0,   0,   0,   0,   0,   0,  85, 252, 249, 146,  48,  29,  85,\n",
       "        178, 225, 253, 223, 167,  56,   0,   0,   0,   0,   0,   0,   0,\n",
       "          0,   0],\n",
       "       [  0,   0,   0,   0,   0,   0,  85, 252, 252, 252, 229, 215, 252,\n",
       "        252, 252, 196, 130,   0,   0,   0,   0,   0,   0,   0,   0,   0,\n",
       "          0,   0],\n",
       "       [  0,   0,   0,   0,   0,   0,  28, 199, 252, 252, 253, 252, 252,\n",
       "        233, 145,   0,   0,   0,   0,   0,   0,   0,   0,   0,   0,   0,\n",
       "          0,   0],\n",
       "       [  0,   0,   0,   0,   0,   0,   0,  25, 128, 252, 253, 252, 141,\n",
       "         37,   0,   0,   0,   0,   0,   0,   0,   0,   0,   0,   0,   0,\n",
       "          0,   0],\n",
       "       [  0,   0,   0,   0,   0,   0,   0,   0,   0,   0,   0,   0,   0,\n",
       "          0,   0,   0,   0,   0,   0,   0,   0,   0,   0,   0,   0,   0,\n",
       "          0,   0],\n",
       "       [  0,   0,   0,   0,   0,   0,   0,   0,   0,   0,   0,   0,   0,\n",
       "          0,   0,   0,   0,   0,   0,   0,   0,   0,   0,   0,   0,   0,\n",
       "          0,   0],\n",
       "       [  0,   0,   0,   0,   0,   0,   0,   0,   0,   0,   0,   0,   0,\n",
       "          0,   0,   0,   0,   0,   0,   0,   0,   0,   0,   0,   0,   0,\n",
       "          0,   0],\n",
       "       [  0,   0,   0,   0,   0,   0,   0,   0,   0,   0,   0,   0,   0,\n",
       "          0,   0,   0,   0,   0,   0,   0,   0,   0,   0,   0,   0,   0,\n",
       "          0,   0]], dtype=uint8)"
      ]
     },
     "execution_count": 177,
     "metadata": {},
     "output_type": "execute_result"
    }
   ],
   "source": [
    "x_train[1]"
   ]
  },
  {
   "cell_type": "code",
   "execution_count": 188,
   "metadata": {
    "scrolled": true
   },
   "outputs": [
    {
     "data": {
      "text/plain": [
       "array([[[0.87147513],\n",
       "        [0.        ],\n",
       "        [0.        ],\n",
       "        [0.72629013],\n",
       "        [0.        ],\n",
       "        [0.        ],\n",
       "        [0.51493996],\n",
       "        [1.        ],\n",
       "        [0.47895585],\n",
       "        [0.        ],\n",
       "        [1.        ],\n",
       "        [0.05619971],\n",
       "        [1.        ],\n",
       "        [0.36453064],\n",
       "        [0.131515  ],\n",
       "        [0.        ],\n",
       "        [0.        ],\n",
       "        [0.42884238],\n",
       "        [0.        ],\n",
       "        [0.21125688],\n",
       "        [0.        ],\n",
       "        [0.        ],\n",
       "        [0.37830908],\n",
       "        [0.63549079],\n",
       "        [0.62801914],\n",
       "        [0.        ],\n",
       "        [0.96910861],\n",
       "        [0.        ]],\n",
       "\n",
       "       [[0.09568492],\n",
       "        [0.33485769],\n",
       "        [0.        ],\n",
       "        [0.        ],\n",
       "        [0.46829579],\n",
       "        [0.83009572],\n",
       "        [0.        ],\n",
       "        [0.54140511],\n",
       "        [0.29505036],\n",
       "        [1.        ],\n",
       "        [0.6629552 ],\n",
       "        [1.        ],\n",
       "        [0.08376944],\n",
       "        [0.71674747],\n",
       "        [0.49120644],\n",
       "        [0.        ],\n",
       "        [0.21649073],\n",
       "        [0.91003604],\n",
       "        [0.29986009],\n",
       "        [0.93944001],\n",
       "        [0.        ],\n",
       "        [0.        ],\n",
       "        [1.        ],\n",
       "        [0.32904784],\n",
       "        [0.12319531],\n",
       "        [0.57009275],\n",
       "        [0.22989701],\n",
       "        [0.51439664]],\n",
       "\n",
       "       [[0.45238918],\n",
       "        [0.0796271 ],\n",
       "        [0.52678861],\n",
       "        [0.        ],\n",
       "        [0.        ],\n",
       "        [0.        ],\n",
       "        [0.7471192 ],\n",
       "        [0.        ],\n",
       "        [0.        ],\n",
       "        [0.45591886],\n",
       "        [0.24203546],\n",
       "        [0.17599968],\n",
       "        [0.5951952 ],\n",
       "        [0.        ],\n",
       "        [0.        ],\n",
       "        [0.        ],\n",
       "        [1.        ],\n",
       "        [0.        ],\n",
       "        [0.        ],\n",
       "        [0.25591621],\n",
       "        [0.03359138],\n",
       "        [0.16075463],\n",
       "        [0.6605944 ],\n",
       "        [0.13530085],\n",
       "        [0.30259063],\n",
       "        [0.33014182],\n",
       "        [0.        ],\n",
       "        [0.35139466]],\n",
       "\n",
       "       [[0.        ],\n",
       "        [0.        ],\n",
       "        [0.53363647],\n",
       "        [0.32666497],\n",
       "        [0.47327556],\n",
       "        [0.        ],\n",
       "        [0.05966738],\n",
       "        [0.        ],\n",
       "        [0.        ],\n",
       "        [0.1741583 ],\n",
       "        [1.        ],\n",
       "        [0.44831701],\n",
       "        [0.70003233],\n",
       "        [0.25799589],\n",
       "        [0.        ],\n",
       "        [0.64291685],\n",
       "        [0.09462102],\n",
       "        [0.20778586],\n",
       "        [0.27691798],\n",
       "        [0.68748185],\n",
       "        [0.68458807],\n",
       "        [0.84717772],\n",
       "        [0.00478973],\n",
       "        [0.03422339],\n",
       "        [0.        ],\n",
       "        [0.09592465],\n",
       "        [0.        ],\n",
       "        [0.09725366]],\n",
       "\n",
       "       [[0.97581249],\n",
       "        [0.56664407],\n",
       "        [0.        ],\n",
       "        [1.        ],\n",
       "        [0.        ],\n",
       "        [0.24184359],\n",
       "        [0.35210285],\n",
       "        [0.49048967],\n",
       "        [0.57817085],\n",
       "        [0.49849971],\n",
       "        [0.89827766],\n",
       "        [0.55848817],\n",
       "        [0.48434664],\n",
       "        [1.        ],\n",
       "        [0.1714505 ],\n",
       "        [1.        ],\n",
       "        [0.27404671],\n",
       "        [1.        ],\n",
       "        [0.        ],\n",
       "        [0.66570157],\n",
       "        [0.        ],\n",
       "        [0.80430775],\n",
       "        [0.91589642],\n",
       "        [0.        ],\n",
       "        [0.        ],\n",
       "        [0.        ],\n",
       "        [0.58102623],\n",
       "        [0.        ]],\n",
       "\n",
       "       [[0.        ],\n",
       "        [0.48063922],\n",
       "        [0.        ],\n",
       "        [0.23827307],\n",
       "        [0.        ],\n",
       "        [0.4445971 ],\n",
       "        [1.        ],\n",
       "        [0.36335222],\n",
       "        [1.        ],\n",
       "        [0.7054399 ],\n",
       "        [0.        ],\n",
       "        [0.21266973],\n",
       "        [0.30020171],\n",
       "        [0.22825257],\n",
       "        [0.        ],\n",
       "        [1.        ],\n",
       "        [1.        ],\n",
       "        [0.61909589],\n",
       "        [0.71487345],\n",
       "        [0.09175388],\n",
       "        [0.        ],\n",
       "        [0.58960284],\n",
       "        [0.81748169],\n",
       "        [0.        ],\n",
       "        [0.01924071],\n",
       "        [0.57498796],\n",
       "        [0.51607527],\n",
       "        [0.        ]],\n",
       "\n",
       "       [[0.10883936],\n",
       "        [0.68878955],\n",
       "        [0.        ],\n",
       "        [0.43805886],\n",
       "        [0.        ],\n",
       "        [0.        ],\n",
       "        [0.16184279],\n",
       "        [0.40405071],\n",
       "        [0.85509384],\n",
       "        [0.1190397 ],\n",
       "        [0.89787933],\n",
       "        [0.50327769],\n",
       "        [0.03550385],\n",
       "        [0.43053193],\n",
       "        [0.220568  ],\n",
       "        [0.79829586],\n",
       "        [0.92429083],\n",
       "        [1.        ],\n",
       "        [0.75654273],\n",
       "        [1.        ],\n",
       "        [0.36270324],\n",
       "        [0.14504672],\n",
       "        [0.65730672],\n",
       "        [0.97150922],\n",
       "        [0.45931747],\n",
       "        [0.        ],\n",
       "        [0.        ],\n",
       "        [0.55378464]],\n",
       "\n",
       "       [[0.        ],\n",
       "        [0.        ],\n",
       "        [0.        ],\n",
       "        [0.15523516],\n",
       "        [0.        ],\n",
       "        [0.        ],\n",
       "        [0.06557358],\n",
       "        [0.4468415 ],\n",
       "        [0.59500944],\n",
       "        [0.        ],\n",
       "        [0.        ],\n",
       "        [0.08275466],\n",
       "        [0.96984361],\n",
       "        [1.        ],\n",
       "        [1.        ],\n",
       "        [0.71351279],\n",
       "        [1.        ],\n",
       "        [1.        ],\n",
       "        [1.        ],\n",
       "        [1.        ],\n",
       "        [0.54900944],\n",
       "        [0.421574  ],\n",
       "        [0.        ],\n",
       "        [0.        ],\n",
       "        [0.64511972],\n",
       "        [0.        ],\n",
       "        [0.        ],\n",
       "        [0.36529399]],\n",
       "\n",
       "       [[0.        ],\n",
       "        [0.14215895],\n",
       "        [0.50465965],\n",
       "        [1.        ],\n",
       "        [0.        ],\n",
       "        [0.        ],\n",
       "        [0.48998696],\n",
       "        [0.06589151],\n",
       "        [0.20962956],\n",
       "        [0.46768511],\n",
       "        [0.        ],\n",
       "        [0.99513331],\n",
       "        [1.        ],\n",
       "        [0.98000177],\n",
       "        [1.        ],\n",
       "        [1.        ],\n",
       "        [0.61550861],\n",
       "        [0.99088407],\n",
       "        [0.38262977],\n",
       "        [0.27504147],\n",
       "        [0.51647316],\n",
       "        [0.88900991],\n",
       "        [0.12496482],\n",
       "        [1.        ],\n",
       "        [0.75561717],\n",
       "        [0.        ],\n",
       "        [0.19727744],\n",
       "        [0.31447962]],\n",
       "\n",
       "       [[0.38708031],\n",
       "        [0.43491294],\n",
       "        [1.        ],\n",
       "        [0.22726214],\n",
       "        [0.29348257],\n",
       "        [0.42879693],\n",
       "        [0.47297225],\n",
       "        [0.14158591],\n",
       "        [0.77910656],\n",
       "        [0.        ],\n",
       "        [0.17030323],\n",
       "        [1.        ],\n",
       "        [1.        ],\n",
       "        [1.        ],\n",
       "        [0.37737613],\n",
       "        [0.64879165],\n",
       "        [1.        ],\n",
       "        [1.        ],\n",
       "        [0.        ],\n",
       "        [0.87375599],\n",
       "        [1.        ],\n",
       "        [0.52153859],\n",
       "        [0.        ],\n",
       "        [0.        ],\n",
       "        [0.        ],\n",
       "        [0.43754839],\n",
       "        [0.33238202],\n",
       "        [0.36931021]],\n",
       "\n",
       "       [[0.18823763],\n",
       "        [0.        ],\n",
       "        [0.70674823],\n",
       "        [0.61887125],\n",
       "        [0.27263262],\n",
       "        [0.        ],\n",
       "        [0.456187  ],\n",
       "        [1.        ],\n",
       "        [0.        ],\n",
       "        [0.        ],\n",
       "        [1.        ],\n",
       "        [1.        ],\n",
       "        [1.        ],\n",
       "        [0.43271057],\n",
       "        [0.1952501 ],\n",
       "        [0.45887724],\n",
       "        [0.54793906],\n",
       "        [0.        ],\n",
       "        [0.57446668],\n",
       "        [0.56818082],\n",
       "        [1.        ],\n",
       "        [0.33893351],\n",
       "        [0.10061772],\n",
       "        [0.        ],\n",
       "        [0.        ],\n",
       "        [0.        ],\n",
       "        [0.15574529],\n",
       "        [0.09325442]],\n",
       "\n",
       "       [[0.        ],\n",
       "        [0.        ],\n",
       "        [0.76557   ],\n",
       "        [1.        ],\n",
       "        [0.        ],\n",
       "        [0.        ],\n",
       "        [0.43101143],\n",
       "        [0.        ],\n",
       "        [0.94437318],\n",
       "        [0.17782479],\n",
       "        [1.        ],\n",
       "        [0.84419596],\n",
       "        [1.        ],\n",
       "        [0.8996697 ],\n",
       "        [0.        ],\n",
       "        [0.66952329],\n",
       "        [0.4072582 ],\n",
       "        [0.        ],\n",
       "        [0.21035271],\n",
       "        [0.65655604],\n",
       "        [0.96612767],\n",
       "        [1.        ],\n",
       "        [0.        ],\n",
       "        [0.25273487],\n",
       "        [0.13637783],\n",
       "        [0.        ],\n",
       "        [0.3004587 ],\n",
       "        [0.        ]],\n",
       "\n",
       "       [[0.18435686],\n",
       "        [0.        ],\n",
       "        [1.        ],\n",
       "        [0.        ],\n",
       "        [0.76172906],\n",
       "        [1.        ],\n",
       "        [0.39188065],\n",
       "        [0.31116125],\n",
       "        [1.        ],\n",
       "        [1.        ],\n",
       "        [0.91440188],\n",
       "        [0.90972084],\n",
       "        [0.        ],\n",
       "        [0.32925742],\n",
       "        [0.        ],\n",
       "        [0.        ],\n",
       "        [0.58176914],\n",
       "        [0.        ],\n",
       "        [0.86411905],\n",
       "        [0.94137233],\n",
       "        [1.        ],\n",
       "        [0.67760512],\n",
       "        [1.        ],\n",
       "        [0.71379487],\n",
       "        [0.        ],\n",
       "        [0.50656519],\n",
       "        [0.27928214],\n",
       "        [0.        ]],\n",
       "\n",
       "       [[0.        ],\n",
       "        [0.        ],\n",
       "        [0.187585  ],\n",
       "        [0.47068936],\n",
       "        [1.        ],\n",
       "        [0.51905338],\n",
       "        [0.        ],\n",
       "        [0.67174885],\n",
       "        [1.        ],\n",
       "        [0.95424322],\n",
       "        [0.        ],\n",
       "        [0.        ],\n",
       "        [0.        ],\n",
       "        [0.        ],\n",
       "        [0.7152182 ],\n",
       "        [0.63535999],\n",
       "        [0.68952522],\n",
       "        [0.        ],\n",
       "        [0.47356419],\n",
       "        [0.60257242],\n",
       "        [1.        ],\n",
       "        [1.        ],\n",
       "        [0.88907315],\n",
       "        [0.4960519 ],\n",
       "        [0.        ],\n",
       "        [0.1294207 ],\n",
       "        [0.        ],\n",
       "        [0.38484166]],\n",
       "\n",
       "       [[0.        ],\n",
       "        [0.        ],\n",
       "        [0.46904624],\n",
       "        [0.13831137],\n",
       "        [0.13655911],\n",
       "        [0.22623439],\n",
       "        [0.02007578],\n",
       "        [0.00115389],\n",
       "        [1.        ],\n",
       "        [0.99306317],\n",
       "        [0.80540522],\n",
       "        [0.26881227],\n",
       "        [0.84969775],\n",
       "        [0.35632932],\n",
       "        [0.28475199],\n",
       "        [0.        ],\n",
       "        [0.07538871],\n",
       "        [0.34094336],\n",
       "        [0.30968053],\n",
       "        [0.12530573],\n",
       "        [1.        ],\n",
       "        [0.96331252],\n",
       "        [0.5320274 ],\n",
       "        [0.67200263],\n",
       "        [0.89421972],\n",
       "        [0.        ],\n",
       "        [0.        ],\n",
       "        [0.27904627]],\n",
       "\n",
       "       [[0.34676896],\n",
       "        [0.2738523 ],\n",
       "        [0.        ],\n",
       "        [0.        ],\n",
       "        [1.        ],\n",
       "        [0.        ],\n",
       "        [0.87748312],\n",
       "        [0.44790292],\n",
       "        [0.78506672],\n",
       "        [1.        ],\n",
       "        [0.34908563],\n",
       "        [0.14411608],\n",
       "        [0.57265239],\n",
       "        [0.74004496],\n",
       "        [0.17964098],\n",
       "        [0.        ],\n",
       "        [0.06131848],\n",
       "        [0.14071112],\n",
       "        [0.        ],\n",
       "        [0.28491759],\n",
       "        [0.37688735],\n",
       "        [1.        ],\n",
       "        [1.        ],\n",
       "        [0.        ],\n",
       "        [0.04945975],\n",
       "        [0.67145586],\n",
       "        [0.        ],\n",
       "        [0.96178721]],\n",
       "\n",
       "       [[0.        ],\n",
       "        [0.24313128],\n",
       "        [0.80832673],\n",
       "        [0.        ],\n",
       "        [0.        ],\n",
       "        [0.        ],\n",
       "        [1.        ],\n",
       "        [1.        ],\n",
       "        [1.        ],\n",
       "        [0.3458339 ],\n",
       "        [0.62651954],\n",
       "        [0.91153969],\n",
       "        [0.85449993],\n",
       "        [0.3343495 ],\n",
       "        [0.51448988],\n",
       "        [0.        ],\n",
       "        [0.38247846],\n",
       "        [0.        ],\n",
       "        [0.25217305],\n",
       "        [0.36305287],\n",
       "        [1.        ],\n",
       "        [1.        ],\n",
       "        [0.50421844],\n",
       "        [0.20573846],\n",
       "        [0.94749194],\n",
       "        [0.58577768],\n",
       "        [1.        ],\n",
       "        [0.79641192]],\n",
       "\n",
       "       [[1.        ],\n",
       "        [0.45025825],\n",
       "        [0.88655924],\n",
       "        [0.        ],\n",
       "        [0.2397839 ],\n",
       "        [0.        ],\n",
       "        [0.51104975],\n",
       "        [1.        ],\n",
       "        [0.90622549],\n",
       "        [0.53522484],\n",
       "        [0.46581885],\n",
       "        [0.27263598],\n",
       "        [1.        ],\n",
       "        [0.        ],\n",
       "        [0.77433066],\n",
       "        [0.53530289],\n",
       "        [0.61424989],\n",
       "        [0.        ],\n",
       "        [1.        ],\n",
       "        [0.        ],\n",
       "        [0.67673976],\n",
       "        [0.65656155],\n",
       "        [0.4456235 ],\n",
       "        [0.        ],\n",
       "        [0.78705309],\n",
       "        [0.        ],\n",
       "        [0.36203329],\n",
       "        [0.14465408]],\n",
       "\n",
       "       [[0.69967725],\n",
       "        [0.        ],\n",
       "        [0.78727644],\n",
       "        [0.        ],\n",
       "        [0.84496685],\n",
       "        [0.        ],\n",
       "        [0.        ],\n",
       "        [0.50211832],\n",
       "        [1.        ],\n",
       "        [0.65388291],\n",
       "        [1.        ],\n",
       "        [0.        ],\n",
       "        [0.05762272],\n",
       "        [0.25064059],\n",
       "        [0.        ],\n",
       "        [0.28288263],\n",
       "        [0.        ],\n",
       "        [1.        ],\n",
       "        [0.99355369],\n",
       "        [1.        ],\n",
       "        [0.24301694],\n",
       "        [0.47044982],\n",
       "        [0.        ],\n",
       "        [0.85536369],\n",
       "        [0.22939532],\n",
       "        [0.31861033],\n",
       "        [0.49975714],\n",
       "        [0.32510125]],\n",
       "\n",
       "       [[0.88248031],\n",
       "        [0.        ],\n",
       "        [0.81388466],\n",
       "        [0.        ],\n",
       "        [0.69442239],\n",
       "        [0.25145363],\n",
       "        [0.41773404],\n",
       "        [0.76432928],\n",
       "        [0.40679614],\n",
       "        [0.15872624],\n",
       "        [0.3633955 ],\n",
       "        [1.        ],\n",
       "        [0.        ],\n",
       "        [1.        ],\n",
       "        [0.        ],\n",
       "        [0.36736125],\n",
       "        [1.        ],\n",
       "        [0.59919853],\n",
       "        [1.        ],\n",
       "        [0.        ],\n",
       "        [0.63367909],\n",
       "        [0.62140126],\n",
       "        [0.83211124],\n",
       "        [0.27850131],\n",
       "        [0.        ],\n",
       "        [0.        ],\n",
       "        [0.        ],\n",
       "        [0.705583  ]],\n",
       "\n",
       "       [[0.27119869],\n",
       "        [0.80536255],\n",
       "        [0.24736439],\n",
       "        [0.59832076],\n",
       "        [0.95768261],\n",
       "        [0.90652473],\n",
       "        [0.55602093],\n",
       "        [1.        ],\n",
       "        [1.        ],\n",
       "        [0.77356188],\n",
       "        [0.34684738],\n",
       "        [0.4970649 ],\n",
       "        [0.08787684],\n",
       "        [1.        ],\n",
       "        [0.48743063],\n",
       "        [1.        ],\n",
       "        [0.25443487],\n",
       "        [1.        ],\n",
       "        [1.        ],\n",
       "        [0.5710064 ],\n",
       "        [0.        ],\n",
       "        [0.37724892],\n",
       "        [0.41214645],\n",
       "        [0.        ],\n",
       "        [0.        ],\n",
       "        [0.28625337],\n",
       "        [0.30183441],\n",
       "        [0.35359953]],\n",
       "\n",
       "       [[0.31751227],\n",
       "        [0.10455917],\n",
       "        [0.        ],\n",
       "        [0.        ],\n",
       "        [0.18693971],\n",
       "        [0.34960112],\n",
       "        [0.44709759],\n",
       "        [0.49109141],\n",
       "        [1.        ],\n",
       "        [1.        ],\n",
       "        [0.77273228],\n",
       "        [1.        ],\n",
       "        [1.        ],\n",
       "        [1.        ],\n",
       "        [1.        ],\n",
       "        [1.        ],\n",
       "        [0.44823432],\n",
       "        [0.07371123],\n",
       "        [0.6350949 ],\n",
       "        [0.33551214],\n",
       "        [0.        ],\n",
       "        [0.        ],\n",
       "        [0.75520892],\n",
       "        [0.91001549],\n",
       "        [0.        ],\n",
       "        [0.        ],\n",
       "        [1.        ],\n",
       "        [0.48143321]],\n",
       "\n",
       "       [[0.        ],\n",
       "        [0.04451216],\n",
       "        [0.73814534],\n",
       "        [0.        ],\n",
       "        [1.        ],\n",
       "        [0.68033032],\n",
       "        [0.14937724],\n",
       "        [1.        ],\n",
       "        [1.        ],\n",
       "        [0.75498673],\n",
       "        [1.        ],\n",
       "        [1.        ],\n",
       "        [1.        ],\n",
       "        [1.        ],\n",
       "        [0.10681791],\n",
       "        [0.01763393],\n",
       "        [0.24751507],\n",
       "        [0.54367336],\n",
       "        [0.        ],\n",
       "        [0.54730904],\n",
       "        [0.63969088],\n",
       "        [0.        ],\n",
       "        [0.        ],\n",
       "        [0.10841469],\n",
       "        [0.        ],\n",
       "        [0.29853094],\n",
       "        [0.35441753],\n",
       "        [0.        ]],\n",
       "\n",
       "       [[0.45797819],\n",
       "        [1.        ],\n",
       "        [0.46672183],\n",
       "        [0.        ],\n",
       "        [0.42275614],\n",
       "        [0.65629928],\n",
       "        [0.28221958],\n",
       "        [1.        ],\n",
       "        [0.23535608],\n",
       "        [1.        ],\n",
       "        [0.91782186],\n",
       "        [1.        ],\n",
       "        [0.34309389],\n",
       "        [1.        ],\n",
       "        [0.54491693],\n",
       "        [0.69860961],\n",
       "        [0.11409807],\n",
       "        [0.        ],\n",
       "        [0.        ],\n",
       "        [0.        ],\n",
       "        [0.12127513],\n",
       "        [0.        ],\n",
       "        [0.30823256],\n",
       "        [0.18246712],\n",
       "        [1.        ],\n",
       "        [0.02431672],\n",
       "        [0.        ],\n",
       "        [0.        ]],\n",
       "\n",
       "       [[0.70089256],\n",
       "        [0.        ],\n",
       "        [0.        ],\n",
       "        [1.        ],\n",
       "        [0.        ],\n",
       "        [0.        ],\n",
       "        [0.16078997],\n",
       "        [0.        ],\n",
       "        [0.26327082],\n",
       "        [0.        ],\n",
       "        [0.        ],\n",
       "        [0.69869267],\n",
       "        [0.60553371],\n",
       "        [0.1636141 ],\n",
       "        [0.73132296],\n",
       "        [0.        ],\n",
       "        [0.68873012],\n",
       "        [0.17518815],\n",
       "        [0.23339751],\n",
       "        [0.03133411],\n",
       "        [0.        ],\n",
       "        [0.        ],\n",
       "        [0.70186158],\n",
       "        [0.32652406],\n",
       "        [0.60471554],\n",
       "        [0.92445532],\n",
       "        [0.460149  ],\n",
       "        [0.20755742]],\n",
       "\n",
       "       [[0.        ],\n",
       "        [0.        ],\n",
       "        [0.23396869],\n",
       "        [0.52776738],\n",
       "        [0.        ],\n",
       "        [0.35866089],\n",
       "        [0.41997116],\n",
       "        [0.61286164],\n",
       "        [0.63567091],\n",
       "        [0.29872611],\n",
       "        [0.32787071],\n",
       "        [0.        ],\n",
       "        [0.13742225],\n",
       "        [0.        ],\n",
       "        [0.74871705],\n",
       "        [0.        ],\n",
       "        [0.        ],\n",
       "        [0.31520178],\n",
       "        [0.41992073],\n",
       "        [0.        ],\n",
       "        [0.43949896],\n",
       "        [0.35983413],\n",
       "        [0.81538909],\n",
       "        [0.14623281],\n",
       "        [0.        ],\n",
       "        [0.70938266],\n",
       "        [0.18320529],\n",
       "        [0.56444769]],\n",
       "\n",
       "       [[0.22602147],\n",
       "        [0.70232753],\n",
       "        [0.        ],\n",
       "        [0.        ],\n",
       "        [0.75253005],\n",
       "        [0.24634222],\n",
       "        [0.36040267],\n",
       "        [0.        ],\n",
       "        [1.        ],\n",
       "        [0.51778208],\n",
       "        [0.        ],\n",
       "        [0.8808618 ],\n",
       "        [0.        ],\n",
       "        [0.23388015],\n",
       "        [0.26415302],\n",
       "        [0.        ],\n",
       "        [1.        ],\n",
       "        [0.03873045],\n",
       "        [0.00626928],\n",
       "        [0.24819977],\n",
       "        [0.50310944],\n",
       "        [0.        ],\n",
       "        [0.29586303],\n",
       "        [0.62760358],\n",
       "        [0.51276103],\n",
       "        [0.01521199],\n",
       "        [0.72426916],\n",
       "        [0.82691807]],\n",
       "\n",
       "       [[0.        ],\n",
       "        [1.        ],\n",
       "        [0.13292806],\n",
       "        [0.31808424],\n",
       "        [0.33723709],\n",
       "        [1.        ],\n",
       "        [0.22886664],\n",
       "        [0.48023682],\n",
       "        [0.54113968],\n",
       "        [0.59802466],\n",
       "        [0.63140799],\n",
       "        [0.4987497 ],\n",
       "        [0.        ],\n",
       "        [0.        ],\n",
       "        [0.        ],\n",
       "        [0.23286634],\n",
       "        [0.14054049],\n",
       "        [0.        ],\n",
       "        [0.        ],\n",
       "        [0.18460862],\n",
       "        [0.46648364],\n",
       "        [0.        ],\n",
       "        [0.        ],\n",
       "        [0.        ],\n",
       "        [0.        ],\n",
       "        [0.01332297],\n",
       "        [1.        ],\n",
       "        [0.        ]]])"
      ]
     },
     "execution_count": 188,
     "metadata": {},
     "output_type": "execute_result"
    }
   ],
   "source": [
    "x_train_noised_clipped[1]"
   ]
  },
  {
   "cell_type": "code",
   "execution_count": 189,
   "metadata": {
    "scrolled": true
   },
   "outputs": [
    {
     "name": "stdout",
     "output_type": "stream",
     "text": [
      "_________________________________________________________________\n",
      "Layer (type)                 Output Shape              Param #   \n",
      "=================================================================\n",
      "input_25 (InputLayer)        (None, 28, 28, 1)         0         \n",
      "_________________________________________________________________\n",
      "conv2d_47 (Conv2D)           (None, 28, 28, 16)        160       \n",
      "_________________________________________________________________\n",
      "max_pooling2d_22 (MaxPooling (None, 14, 14, 16)        0         \n",
      "_________________________________________________________________\n",
      "conv2d_48 (Conv2D)           (None, 14, 14, 8)         1160      \n",
      "_________________________________________________________________\n",
      "max_pooling2d_23 (MaxPooling (None, 7, 7, 8)           0         \n",
      "_________________________________________________________________\n",
      "conv2d_49 (Conv2D)           (None, 7, 7, 8)           584       \n",
      "_________________________________________________________________\n",
      "max_pooling2d_24 (MaxPooling (None, 4, 4, 8)           0         \n",
      "_________________________________________________________________\n",
      "conv2d_50 (Conv2D)           (None, 4, 4, 8)           584       \n",
      "_________________________________________________________________\n",
      "up_sampling2d_22 (UpSampling (None, 8, 8, 8)           0         \n",
      "_________________________________________________________________\n",
      "conv2d_51 (Conv2D)           (None, 8, 8, 8)           584       \n",
      "_________________________________________________________________\n",
      "up_sampling2d_23 (UpSampling (None, 16, 16, 8)         0         \n",
      "_________________________________________________________________\n",
      "conv2d_52 (Conv2D)           (None, 14, 14, 16)        1168      \n",
      "_________________________________________________________________\n",
      "up_sampling2d_24 (UpSampling (None, 28, 28, 16)        0         \n",
      "_________________________________________________________________\n",
      "conv2d_53 (Conv2D)           (None, 28, 28, 1)         145       \n",
      "=================================================================\n",
      "Total params: 4,385\n",
      "Trainable params: 4,385\n",
      "Non-trainable params: 0\n",
      "_________________________________________________________________\n"
     ]
    }
   ],
   "source": [
    "convnet_autoencoder.summary()"
   ]
  },
  {
   "cell_type": "code",
   "execution_count": 194,
   "metadata": {},
   "outputs": [
    {
     "name": "stdout",
     "output_type": "stream",
     "text": [
      "Train on 60000 samples, validate on 10000 samples\n",
      "Epoch 1/10\n",
      "60000/60000 [==============================] - 89s 1ms/step - loss: 0.1624 - val_loss: 0.1483\n",
      "Epoch 2/10\n",
      "60000/60000 [==============================] - 77s 1ms/step - loss: 0.1439 - val_loss: 0.1392\n",
      "Epoch 3/10\n",
      "60000/60000 [==============================] - 78s 1ms/step - loss: 0.1383 - val_loss: 0.1355\n",
      "Epoch 4/10\n",
      "60000/60000 [==============================] - 84s 1ms/step - loss: 0.1353 - val_loss: 0.1328\n",
      "Epoch 5/10\n",
      "60000/60000 [==============================] - 77s 1ms/step - loss: 0.1332 - val_loss: 0.1312\n",
      "Epoch 6/10\n",
      "60000/60000 [==============================] - 77s 1ms/step - loss: 0.1314 - val_loss: 0.1293\n",
      "Epoch 7/10\n",
      "60000/60000 [==============================] - 77s 1ms/step - loss: 0.1300 - val_loss: 0.1286\n",
      "Epoch 8/10\n",
      "60000/60000 [==============================] - 77s 1ms/step - loss: 0.1289 - val_loss: 0.1271\n",
      "Epoch 9/10\n",
      "60000/60000 [==============================] - 77s 1ms/step - loss: 0.1280 - val_loss: 0.1263\n",
      "Epoch 10/10\n",
      "60000/60000 [==============================] - 78s 1ms/step - loss: 0.1272 - val_loss: 0.1262\n"
     ]
    },
    {
     "data": {
      "text/plain": [
       "<keras.callbacks.History at 0x1543c1a90>"
      ]
     },
     "execution_count": 194,
     "metadata": {},
     "output_type": "execute_result"
    }
   ],
   "source": [
    "convnet_autoencoder.fit(x_train_noised_clipped, x_train_normed_reshaped,\n",
    "                        epochs = 10,\n",
    "                        batch_size = 128,\n",
    "                        shuffle = True,\n",
    "                        verbose = 1,\n",
    "                        validation_data = (x_test_noised_clipped, x_test_normed_reshaped), \n",
    "                        callbacks = [TensorBoard(log_dir='/Users/zhong/Downloads/convnet_autoencoder_noise_removal')])\n"
   ]
  },
  {
   "cell_type": "code",
   "execution_count": 200,
   "metadata": {},
   "outputs": [],
   "source": [
    "denoised_imgs = convnet_autoencoder.predict(x_train_noised_clipped)"
   ]
  },
  {
   "cell_type": "code",
   "execution_count": 201,
   "metadata": {},
   "outputs": [
    {
     "data": {
      "image/png": "[encoded data removed]",
      "text/plain": [
       "<Figure size 1440x288 with 20 Axes>"
      ]
     },
     "metadata": {},
     "output_type": "display_data"
    }
   ],
   "source": [
    "n = 10\n",
    "plt.figure(figsize=(20, 4))\n",
    "for i in range(n):\n",
    "    ax = plt.subplot(2, n, i + 1)\n",
    "    plt.imshow(x_train_noised_clipped[i].reshape(28, 28))\n",
    "    plt.gray()\n",
    "    ax.get_xaxis().set_visible(False)\n",
    "    ax.get_yaxis().set_visible(False)\n",
    "    \n",
    "    ax = plt.subplot(2, n, n + i + 1)\n",
    "    plt.imshow(denoised_imgs[i].reshape(28, 28))\n",
    "    plt.gray()\n",
    "    ax.get_xaxis().set_visible(False)\n",
    "    ax.get_yaxis().set_visible(False)\n",
    "plt.show()"
   ]
  },
  {
   "cell_type": "code",
   "execution_count": null,
   "metadata": {},
   "outputs": [],
   "source": []
  }
 ],
 "metadata": {
  "kernelspec": {
   "display_name": "Python 3",
   "language": "python",
   "name": "python3"
  },
  "language_info": {
   "codemirror_mode": {
    "name": "ipython",
    "version": 3
   },
   "file_extension": ".py",
   "mimetype": "text/x-python",
   "name": "python",
   "nbconvert_exporter": "python",
   "pygments_lexer": "ipython3",
   "version": "3.7.0"
  }
 },
 "nbformat": 4,
 "nbformat_minor": 2
}
